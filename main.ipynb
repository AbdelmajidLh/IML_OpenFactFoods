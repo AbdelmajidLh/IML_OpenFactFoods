{
 "cells": [
  {
   "cell_type": "code",
   "execution_count": 1,
   "id": "66142c7b",
   "metadata": {},
   "outputs": [
    {
     "name": "stdout",
     "output_type": "stream",
     "text": [
      "Once deleted, variables cannot be recovered. Proceed (y/[n])? y\n"
     ]
    }
   ],
   "source": [
    "%reset"
   ]
  },
  {
   "cell_type": "code",
   "execution_count": null,
   "id": "9095f616",
   "metadata": {},
   "outputs": [],
   "source": [
    "# constants\n",
    "url = 'https://static.openfoodfacts.org/data/en.openfoodfacts.org.products.csv.gz'\n",
    "url2 = 'https://github.com/AbdelmajidLh/datasets/blob/main/en.openfoodfacts.org.products-df5.csv.gz'\n",
    "url3 = 'https://github.com/Loridan/openclassrooms-iml-projects/blob/main/project2/en.openfoodfacts.org.products-df5.csv'\n",
    "RAW_DATA = 'data/raw/'\n",
    "save_as = 'data/raw/raw_data.gz'\n",
    "logfile = \"log/logfile.log\""
   ]
  },
  {
   "cell_type": "code",
   "execution_count": null,
   "id": "e0a24eee",
   "metadata": {},
   "outputs": [],
   "source": [
    "# import packeges\n",
    "import os\n",
    "import pandas as pd\n",
    "import tarfile\n",
    "import urllib\n",
    "import gzip"
   ]
  },
  {
   "cell_type": "code",
   "execution_count": null,
   "id": "c9457fd3",
   "metadata": {},
   "outputs": [],
   "source": [
    "class GzipDownloader:\n",
    "    def __init__(self, url, save_as=None):\n",
    "        self.url = url\n",
    "        self.save_as = save_as\n",
    "\n",
    "    def download_unzip(self):\n",
    "        # Send a GET request to the URL and get the content\n",
    "        response = requests.get(self.url\n",
    "        #, verify=False\n",
    "        )\n",
    "        data = response.content\n",
    "        # Open the gzip file and decompress it\n",
    "        with gzip.open(data, 'rb') as f:\n",
    "            data = f.read()\n",
    "        # Save the contents to a file if a filename was provided\n",
    "        if self.save_as:\n",
    "            with open(self.save_as, 'wb') as f:\n",
    "                f.write(data)\n",
    "        return data"
   ]
  },
  {
   "cell_type": "code",
   "execution_count": null,
   "id": "f9f851b2",
   "metadata": {},
   "outputs": [],
   "source": [
    "# download and unzip data\n",
    "#logger.debug(\"Downloading data ...\")\n",
    "downloader = GzipDownloader(url, save_as)\n",
    "try:\n",
    "    df = downloader.download_unzip()\n",
    "except Exception as e:\n",
    "    #logger.error(\"Download error\", exc_info=False)\n",
    "    #logger.info(\"Import the dataset from github ...\")\n",
    "    print(\"manually ...\")\n",
    "    downloader = GzipDownloader(url2, save_as)\n",
    "    df = downloader.download_unzip()\n",
    "\n",
    "df.shape"
   ]
  },
  {
   "cell_type": "code",
   "execution_count": null,
   "id": "fd82a61a",
   "metadata": {},
   "outputs": [],
   "source": [
    "df = pd.read_csv(url3, low_memory=False, sep='\\t')"
   ]
  },
  {
   "cell_type": "code",
   "execution_count": null,
   "id": "03e32c61",
   "metadata": {},
   "outputs": [],
   "source": [
    "df.to_csv('data/en.openfoodfacts.org.products-df5.csv', index=False)"
   ]
  },
  {
   "cell_type": "code",
   "execution_count": null,
   "id": "8e61d995",
   "metadata": {},
   "outputs": [],
   "source": [
    "df.head()"
   ]
  },
  {
   "cell_type": "code",
   "execution_count": null,
   "id": "6a666ad7",
   "metadata": {},
   "outputs": [],
   "source": [
    "df.to_csv(\"data/archives/en.openfoodfacts.org.products-df5.csv.gz\", \n",
    "           index=False, \n",
    "           compression=\"gzip\")"
   ]
  },
  {
   "cell_type": "code",
   "execution_count": null,
   "id": "f22fe9cf",
   "metadata": {},
   "outputs": [],
   "source": [
    "df.head()"
   ]
  },
  {
   "cell_type": "code",
   "execution_count": null,
   "id": "4dac91fe",
   "metadata": {},
   "outputs": [],
   "source": [
    "gz_path=save_as\n",
    "urllib.request.urlretrieve(url, gz_path)\n"
   ]
  },
  {
   "cell_type": "markdown",
   "id": "2e2b7259",
   "metadata": {},
   "source": [
    "# download and unzip data"
   ]
  },
  {
   "cell_type": "code",
   "execution_count": null,
   "id": "bc7c0a20",
   "metadata": {},
   "outputs": [],
   "source": [
    "\n",
    "#logger.debug(\"Downloading data ...\")\n",
    "downloader = GzipDownloader(url, save_as)\n",
    "try:\n",
    "    df = downloader.download_unzip()\n",
    "except Exception as e:\n",
    "    #logger.error(\"Download error\", exc_info=True)\n",
    "    print(\"error\")"
   ]
  },
  {
   "cell_type": "markdown",
   "id": "c5003a1b",
   "metadata": {},
   "source": [
    "# import csv from link"
   ]
  },
  {
   "cell_type": "code",
   "execution_count": null,
   "id": "5464352f",
   "metadata": {},
   "outputs": [],
   "source": [
    "import csv\n",
    "import urllib.request\n",
    "\n",
    "class CSVDownloader:\n",
    "    def __init__(self):\n",
    "        self.url = \"\"\n",
    "\n",
    "    def download_csv(self, link):\n",
    "        self.url = link\n",
    "        response = urllib.request.urlopen(self.url)\n",
    "        csv_file = response.read().decode('utf-8')\n",
    "        csv_reader = csv.reader(csv_file.splitlines(), delimiter=',')\n",
    "        csv_data = list(csv_reader)\n",
    "        return csv_data\n"
   ]
  },
  {
   "cell_type": "code",
   "execution_count": null,
   "id": "106445a3",
   "metadata": {},
   "outputs": [],
   "source": [
    "downloader = CSVDownloader()\n",
    "data = downloader.download_csv(url2)\n",
    "print(data)"
   ]
  },
  {
   "cell_type": "markdown",
   "id": "cf84f0da",
   "metadata": {},
   "source": [
    "# import csv.gz from a link"
   ]
  },
  {
   "cell_type": "code",
   "execution_count": null,
   "id": "b9d9b7b7",
   "metadata": {},
   "outputs": [],
   "source": [
    "import gzip\n",
    "import urllib.request\n",
    "import io\n",
    "import csv\n",
    "\n",
    "class CSVDownloader:\n",
    "    def __init__(self):\n",
    "        self.url = \"\"\n",
    "\n",
    "    def download_and_uncompress_csv(self, link):\n",
    "        self.url = link\n",
    "        response = urllib.request.urlopen(self.url)\n",
    "        compressed_file = response.read()\n",
    "        decompressed_file = gzip.decompress(compressed_file)\n",
    "        #Convert bytes to string\n",
    "        csv_file = decompressed_file.decode()\n",
    "        csv_reader = csv.reader(csv_file.splitlines(), delimiter=';')\n",
    "        csv_data = list(csv_reader)\n",
    "        return csv_data\n"
   ]
  },
  {
   "cell_type": "code",
   "execution_count": null,
   "id": "e2958f15",
   "metadata": {},
   "outputs": [],
   "source": [
    "downloader = CSVDownloader()\n",
    "data = downloader.download_and_uncompress_csv(url2)\n",
    "print(data)"
   ]
  },
  {
   "cell_type": "markdown",
   "id": "80cea022",
   "metadata": {},
   "source": [
    "## exemple 2"
   ]
  },
  {
   "cell_type": "code",
   "execution_count": null,
   "id": "48be3755",
   "metadata": {},
   "outputs": [],
   "source": [
    "import os\n",
    "import tarfile\n",
    "import urllib.request\n",
    "\n",
    "class CSVDownloader:\n",
    "    def __init__(self):\n",
    "        self.url = \"\"\n",
    "        self.file_name = \"\"\n",
    "    \n",
    "    def download_csv(self, link):\n",
    "        self.url = link\n",
    "        self.file_name = link.split(\"/\")[-1]\n",
    "        urllib.request.urlretrieve(self.url, self.file_name)\n",
    "        if self.file_name.endswith(\"gz\"):\n",
    "            tar = tarfile.open(self.file_name, \"r:gz\")\n",
    "            tar.extractall()\n",
    "            tar.close()\n",
    "            os.remove(self.file_name)\n",
    "            return self.file_name.replace(\".gz\", \"\")\n",
    "        else:\n",
    "            return self.file_name"
   ]
  },
  {
   "cell_type": "code",
   "execution_count": null,
   "id": "eb75fa94",
   "metadata": {},
   "outputs": [],
   "source": [
    "downloader = CSVDownloader()\n",
    "file_name = downloader.download_csv(url2)\n",
    "print(file_name)"
   ]
  },
  {
   "cell_type": "markdown",
   "id": "f58b3b2f",
   "metadata": {},
   "source": [
    "# from a zip file"
   ]
  },
  {
   "cell_type": "code",
   "execution_count": null,
   "id": "a9f95b65",
   "metadata": {},
   "outputs": [],
   "source": [
    "import os\n",
    "import zipfile\n",
    "import urllib.request\n",
    "import pandas as pd\n",
    "\n",
    "class CSVDownloader:\n",
    "    def __init__(self):\n",
    "        self.url = \"\"\n",
    "        self.file_name = \"\"\n",
    "\n",
    "    def download_csv(self, link):\n",
    "        self.url = link\n",
    "        self.file_name = link.split(\"/\")[-1]\n",
    "        urllib.request.urlretrieve(self.url, self.file_name)\n",
    "\n",
    "        with zipfile.ZipFile(self.file_name, 'r') as zip_ref:\n",
    "            zip_ref.extractall()\n",
    "\n",
    "        for file in os.listdir():\n",
    "            if file.endswith('.csv'):\n",
    "                csv_file = file\n",
    "                break\n",
    "        os.remove(self.file_name)\n",
    "        df = pd.read_csv(csv_file, low_memory=False)\n",
    "        return df\n"
   ]
  },
  {
   "cell_type": "markdown",
   "id": "6853e1d7",
   "metadata": {},
   "source": [
    "## updated class"
   ]
  },
  {
   "cell_type": "code",
   "execution_count": 3,
   "id": "f6d09a66",
   "metadata": {},
   "outputs": [],
   "source": [
    "RAW_DATA = 'data/raw'"
   ]
  },
  {
   "cell_type": "code",
   "execution_count": 4,
   "id": "fc89236f",
   "metadata": {},
   "outputs": [],
   "source": [
    "import os\n",
    "import zipfile\n",
    "import urllib.request\n",
    "import pandas as pd\n",
    "\n",
    "class CSVDownloader:\n",
    "    def __init__(self):\n",
    "        self.url = \"\"\n",
    "        self.file_name = \"\"\n",
    "\n",
    "    def download_csv(self, link):\n",
    "        self.url = link\n",
    "        self.file_name = link.split(\"/\")[-1]\n",
    "        raw_data_path = RAW_DATA\n",
    "        if not os.path.exists(raw_data_path):\n",
    "            os.makedirs(raw_data_path)\n",
    "        urllib.request.urlretrieve(self.url, f\"{raw_data_path}/{self.file_name}\")\n",
    "\n",
    "        with zipfile.ZipFile(f\"{raw_data_path}/{self.file_name}\", 'r') as zip_ref:\n",
    "            zip_ref.extractall(raw_data_path)\n",
    "\n",
    "        for file in os.listdir(raw_data_path):\n",
    "            if file.endswith('.csv'):\n",
    "                csv_file = file\n",
    "                break\n",
    "        os.remove(f\"{raw_data_path}/{self.file_name}\")\n",
    "        df = pd.read_csv(f\"{raw_data_path}/{csv_file}\", low_memory=False)\n",
    "        return df\n"
   ]
  },
  {
   "cell_type": "code",
   "execution_count": 5,
   "id": "cecccf67",
   "metadata": {},
   "outputs": [
    {
     "name": "stdout",
     "output_type": "stream",
     "text": [
      "     code_barres                  date_creation                   nom_produit  \\\n",
      "0  0000000000100  1970-01-01 00:00:01.444572561   moutarde au moût de raisin    \n",
      "1  0000000001281  1970-01-01 00:00:01.517830801            Tarte noix de coco   \n",
      "2  0000000001885  1970-01-01 00:00:01.511180337              Compote de poire   \n",
      "3  0000000005470  1970-01-01 00:00:01.511778860              BAguette bressan   \n",
      "4  0000000043595  1970-01-01 00:00:01.489050424                   Cranberries   \n",
      "\n",
      "                                          categories      countries  \\\n",
      "0            Epicerie, Condiments, Sauces, Moutardes         France   \n",
      "1   Tartes, Tartes sucrées, Tartes à la noix de coco         France   \n",
      "2  Aliments et boissons à base de végétaux, Alime...         France   \n",
      "3  Aliments et boissons à base de végétaux, Alime...         France   \n",
      "4  Plant-based foods and beverages, Plant-based f...  United States   \n",
      "\n",
      "   nutriscore_score nutriscore_grade         pnns_groupes_1  \\\n",
      "0              18.0                d         Fat and sauces   \n",
      "1              14.0                d          Sugary snacks   \n",
      "2              -2.0                a  Fruits and vegetables   \n",
      "3              -4.0                a   Cereals and potatoes   \n",
      "4               3.0                c  Fruits and vegetables   \n",
      "\n",
      "         pnns_groupes_2  energie_100g  matieres_grasses_100g  \\\n",
      "0  Dressings and sauces         936.0                    8.2   \n",
      "1    Biscuits and cakes        1594.0                   22.0   \n",
      "2                Fruits         657.0                    0.0   \n",
      "3                 Bread         669.0                    2.2   \n",
      "4                Fruits        1255.0                    0.0   \n",
      "\n",
      "   matieres_grasses_saturees_100g  glucides_100g  glucides_sucres_100g  \\\n",
      "0                             2.2          29.00                 22.00   \n",
      "1                            15.5          27.30                 21.90   \n",
      "2                             0.0          36.00                 27.00   \n",
      "3                             0.5          25.20                  0.60   \n",
      "4                             0.0          83.33                 66.67   \n",
      "\n",
      "   fibres_100g  proteines_100g  sel_100g  sodium_100g  \n",
      "0          0.0             5.1     4.600       1.8400  \n",
      "1          4.4             4.6     0.100       0.0400  \n",
      "2          3.6             0.6     0.000       0.0000  \n",
      "3          1.6             9.5     0.358       0.1432  \n",
      "4         10.0             0.0     0.000       0.0000  \n"
     ]
    }
   ],
   "source": [
    "downloader = CSVDownloader()\n",
    "df = downloader.download_csv(\"https://github.com/AbdelmajidLh/datasets/raw/main/en.openfoodfacts.org.products-df5.zip\")\n",
    "print(df.head())"
   ]
  },
  {
   "cell_type": "markdown",
   "id": "36fa19b9",
   "metadata": {},
   "source": [
    "# from a csv file with checks "
   ]
  },
  {
   "cell_type": "code",
   "execution_count": null,
   "id": "47875b26",
   "metadata": {},
   "outputs": [],
   "source": [
    "import pandas as pd\n",
    "\n",
    "class CSVImporter:\n",
    "    def __init__(self):\n",
    "        self.file_name = \"\"\n",
    "\n",
    "    def import_csv(self, file_name):\n",
    "        self.file_name = file_name\n",
    "        try:\n",
    "            df = pd.read_csv(self.file_name, low_memory=False)\n",
    "            if df.empty:\n",
    "                raise ValueError(\"The file is empty\")\n",
    "            return df\n",
    "        except FileNotFoundError:\n",
    "            raise FileNotFoundError(\"The file does not exist\")\n"
   ]
  },
  {
   "cell_type": "code",
   "execution_count": null,
   "id": "e0bdaa84",
   "metadata": {},
   "outputs": [],
   "source": [
    "importer = CSVImporter()\n",
    "df = importer.import_csv(\"data/raw/en.openfoodfacts.org.products-df5.csv\")\n",
    "print(df.head())"
   ]
  },
  {
   "cell_type": "markdown",
   "id": "4b45cdbe",
   "metadata": {},
   "source": [
    "# telecharger et décompresser un zip file"
   ]
  },
  {
   "cell_type": "code",
   "execution_count": null,
   "id": "b003edcb",
   "metadata": {},
   "outputs": [],
   "source": [
    "import urllib.request\n",
    "import zipfile\n",
    "import os\n",
    "\n",
    "class FileDownloader:\n",
    "    def __init__(self):\n",
    "        self.url = \"\"\n",
    "        self.file_name = \"\"\n",
    "\n",
    "    def download_and_unzip(self, link):\n",
    "        self.url = link\n",
    "        self.file_name = link.split(\"/\")[-1]\n",
    "        urllib.request.urlretrieve(self.url, self.file_name)\n",
    "        with zipfile.ZipFile(self.file_name, 'r') as zip_ref:\n",
    "            zip_ref.extractall()\n",
    "        os.remove(self.file_name)\n"
   ]
  },
  {
   "cell_type": "code",
   "execution_count": null,
   "id": "e15e4ed0",
   "metadata": {},
   "outputs": [],
   "source": [
    "downloader = FileDownloader()\n",
    "downloader.download_and_unzip(\"https://github.com/AbdelmajidLh/datasets/raw/main/en.openfoodfacts.org.products-df5.zip\")\n"
   ]
  },
  {
   "cell_type": "code",
   "execution_count": null,
   "id": "f1f76774",
   "metadata": {},
   "outputs": [],
   "source": []
  }
 ],
 "metadata": {
  "kernelspec": {
   "display_name": "Python 3 (ipykernel)",
   "language": "python",
   "name": "python3"
  },
  "language_info": {
   "codemirror_mode": {
    "name": "ipython",
    "version": 3
   },
   "file_extension": ".py",
   "mimetype": "text/x-python",
   "name": "python",
   "nbconvert_exporter": "python",
   "pygments_lexer": "ipython3",
   "version": "3.9.13"
  }
 },
 "nbformat": 4,
 "nbformat_minor": 5
}